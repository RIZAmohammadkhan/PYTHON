{
 "cells": [
  {
   "cell_type": "markdown",
   "id": "607f9b90",
   "metadata": {},
   "source": [
    "# 06-function {02}\n",
    "---------------------------\n",
    "- defining a function\n",
    "____________________________\n"
   ]
  },
  {
   "cell_type": "code",
   "execution_count": 1,
   "id": "615ed04f",
   "metadata": {},
   "outputs": [],
   "source": [
    "def func_name():\n",
    "    print('hello')\n",
    "    "
   ]
  },
  {
   "cell_type": "markdown",
   "id": "3762d85a",
   "metadata": {},
   "source": [
    "### Types of Functions\n",
    "------------------------------------------------------------\n",
    "- with arguments and with return value\n",
    "- with arguments and without return value\n",
    "- without arguments and with return value\n",
    "- without arguments and without return value\n",
    "-------------------------------------------------------------"
   ]
  },
  {
   "cell_type": "code",
   "execution_count": 3,
   "id": "2c7e0868",
   "metadata": {},
   "outputs": [],
   "source": [
    "#with arguments and with return value\n",
    "def greet(args):\n",
    "    return f'Hi! {args}\\n'"
   ]
  },
  {
   "cell_type": "code",
   "execution_count": 4,
   "id": "2eb6f0a1",
   "metadata": {},
   "outputs": [],
   "source": [
    "a= greet('Abcd')"
   ]
  },
  {
   "cell_type": "code",
   "execution_count": 5,
   "id": "bc65392e",
   "metadata": {},
   "outputs": [
    {
     "name": "stdout",
     "output_type": "stream",
     "text": [
      "Hi! Abcd\n",
      "\n"
     ]
    }
   ],
   "source": [
    "print(a)"
   ]
  },
  {
   "cell_type": "code",
   "execution_count": 6,
   "id": "abb47ef5",
   "metadata": {},
   "outputs": [],
   "source": [
    "#with arguments and without return value"
   ]
  },
  {
   "cell_type": "code",
   "execution_count": 9,
   "id": "468845ff",
   "metadata": {},
   "outputs": [],
   "source": [
    "def greet1(name):\n",
    "    print(f'Hi! {name}\\n')"
   ]
  },
  {
   "cell_type": "code",
   "execution_count": 10,
   "id": "d37736be",
   "metadata": {},
   "outputs": [
    {
     "name": "stdout",
     "output_type": "stream",
     "text": [
      "Hi! Ahmad\n",
      "\n"
     ]
    }
   ],
   "source": [
    "b = greet1('Ahmad')"
   ]
  },
  {
   "cell_type": "code",
   "execution_count": 15,
   "id": "6c86da7e",
   "metadata": {},
   "outputs": [],
   "source": [
    "#without arguments and with return value\n",
    "def bye_Ahmad():\n",
    "    return f'Bye Ahmad!  nice to see you.'"
   ]
  },
  {
   "cell_type": "code",
   "execution_count": 16,
   "id": "acf76b50",
   "metadata": {},
   "outputs": [],
   "source": [
    "a = bye_Ahmad()"
   ]
  },
  {
   "cell_type": "code",
   "execution_count": 17,
   "id": "7dd68d9e",
   "metadata": {},
   "outputs": [
    {
     "name": "stdout",
     "output_type": "stream",
     "text": [
      "Bye Ahmad!  nice to see you.\n"
     ]
    }
   ],
   "source": [
    "print(a)"
   ]
  },
  {
   "cell_type": "code",
   "execution_count": 18,
   "id": "30e0faf3",
   "metadata": {},
   "outputs": [],
   "source": [
    "#without arguments and without return value\n",
    "def from_states():\n",
    "    print('from Delhi to Lahore')"
   ]
  },
  {
   "cell_type": "code",
   "execution_count": 19,
   "id": "97da3d10",
   "metadata": {},
   "outputs": [
    {
     "name": "stdout",
     "output_type": "stream",
     "text": [
      "from Delhi to Lahore\n"
     ]
    }
   ],
   "source": [
    "d = from_states()"
   ]
  },
  {
   "cell_type": "code",
   "execution_count": 21,
   "id": "9bdef334",
   "metadata": {},
   "outputs": [
    {
     "name": "stdout",
     "output_type": "stream",
     "text": [
      "None\n"
     ]
    }
   ],
   "source": [
    "print(d)"
   ]
  },
  {
   "cell_type": "markdown",
   "id": "94ae2939",
   "metadata": {},
   "source": [
    " _____________\n",
    " - positional arguments( / )\n",
    " - keyword arguments ( * )\n",
    " _________\n",
    " "
   ]
  },
  {
   "cell_type": "code",
   "execution_count": 30,
   "id": "906de595",
   "metadata": {},
   "outputs": [],
   "source": [
    "def Person(name,/,city,*,age): # as we have not specified both name and age will be keyword as well as positional\n",
    "    return f'HI! {name}. are you {age} years old and you live in {city}'"
   ]
  },
  {
   "cell_type": "code",
   "execution_count": 34,
   "id": "561c1e4b",
   "metadata": {},
   "outputs": [
    {
     "name": "stdout",
     "output_type": "stream",
     "text": [
      "HI! Imran. are you 20 years old and you live in Karachi\n"
     ]
    }
   ],
   "source": [
    "print(Person('Imran',age =20,city='Karachi'))"
   ]
  },
  {
   "cell_type": "markdown",
   "id": "0d70bb68",
   "metadata": {},
   "source": [
    "### general function defination\n",
    "---------------\n",
    "**def** *function_name*(positional,*arguments,**kwrgs):\n",
    "\n",
    "    {body}\n",
    "    \n",
    "    if returns then add return statements\n",
    "-----------"
   ]
  },
  {
   "cell_type": "code",
   "execution_count": 39,
   "id": "fda86e38",
   "metadata": {},
   "outputs": [],
   "source": [
    "def info(name,*statements,**bio_data):\n",
    "    print(f'HI! \\n HOW ARE YOU?')\n",
    "    print('HAVE YOU SAID THIS')\n",
    "    for statement in statements:\n",
    "        print(f'{name}: {statement}')\n",
    "    for data in bio_data:\n",
    "        print(f'{data}: {bio_data[data]}')\n",
    "        "
   ]
  },
  {
   "cell_type": "code",
   "execution_count": 40,
   "id": "d86f0d99",
   "metadata": {},
   "outputs": [
    {
     "name": "stdout",
     "output_type": "stream",
     "text": [
      "HI! \n",
      " HOW ARE YOU?\n",
      "HAVE YOU SAID THIS\n",
      "Riza: we should live peacefully\n",
      "Riza: 404\n",
      "Riza: we should live happily\n",
      "first_name: Riza\n",
      "second_name: Mohammad\n",
      "last_name: khan\n",
      "age: 20\n"
     ]
    }
   ],
   "source": [
    "info('Riza',\"we should live peacefully\",404,\"we should live happily\",first_name='Riza',second_name='Mohammad'\n",
    "    ,last_name='khan',age=20)"
   ]
  },
  {
   "cell_type": "code",
   "execution_count": null,
   "id": "344ed440",
   "metadata": {},
   "outputs": [],
   "source": []
  }
 ],
 "metadata": {
  "kernelspec": {
   "display_name": "Python 3 (ipykernel)",
   "language": "python",
   "name": "python3"
  },
  "language_info": {
   "codemirror_mode": {
    "name": "ipython",
    "version": 3
   },
   "file_extension": ".py",
   "mimetype": "text/x-python",
   "name": "python",
   "nbconvert_exporter": "python",
   "pygments_lexer": "ipython3",
   "version": "3.9.13"
  }
 },
 "nbformat": 4,
 "nbformat_minor": 5
}
