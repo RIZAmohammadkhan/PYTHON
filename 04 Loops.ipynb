{
 "cells": [
  {
   "cell_type": "markdown",
   "id": "dff3aa9f",
   "metadata": {},
   "source": [
    "# loops"
   ]
  },
  {
   "cell_type": "markdown",
   "id": "cd3a18b6",
   "metadata": {},
   "source": [
    "### for loop"
   ]
  },
  {
   "attachments": {
    "For-loop-diagram.svg": {
     "image/svg+xml": [
      "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"
     ]
    }
   },
   "cell_type": "markdown",
   "id": "7d18139e",
   "metadata": {},
   "source": [
    "##### syntax\n",
    "\n",
    "for i in [some list] :\n",
    "    \n",
    "    {statements}\n",
    "    \n",
    "![For-loop-diagram.svg](attachment:For-loop-diagram.svg)\n",
    "\n",
    "\n",
    "By Giacomo Alessandroni - Own work, CC BY-SA 4.0, https://commons.wikimedia.org/w/index.php?curid=98984004"
   ]
  },
  {
   "cell_type": "code",
   "execution_count": 10,
   "id": "19636411",
   "metadata": {},
   "outputs": [
    {
     "name": "stdout",
     "output_type": "stream",
     "text": [
      "0\t1\t2\t3\t4\t5\t6\t7\t8\t9\t"
     ]
    }
   ],
   "source": [
    "for i in range(10):\n",
    "    print(i,end='\\t')"
   ]
  },
  {
   "cell_type": "markdown",
   "id": "77fe3af9",
   "metadata": {},
   "source": [
    "### nested for"
   ]
  },
  {
   "cell_type": "code",
   "execution_count": 14,
   "id": "d9fb9ab8",
   "metadata": {},
   "outputs": [
    {
     "name": "stdout",
     "output_type": "stream",
     "text": [
      "(1,0) (2,0) (2,1) (3,0) (3,1) (3,2) (4,0) (4,1) (4,2) (4,3) (5,0) (5,1) (5,2) (5,3) (5,4) (6,0) (6,1) (6,2) (6,3) (6,4) (6,5) (7,0) (7,1) (7,2) (7,3) (7,4) (7,5) (7,6) (8,0) (8,1) (8,2) (8,3) (8,4) (8,5) (8,6) (8,7) (9,0) (9,1) (9,2) (9,3) (9,4) (9,5) (9,6) (9,7) (9,8) "
     ]
    }
   ],
   "source": [
    "for i in range(10):\n",
    "    for j in range(10):\n",
    "        if i==j:\n",
    "            break\n",
    "        print(f'({i},{j})',end=' ')\n",
    "        "
   ]
  },
  {
   "cell_type": "markdown",
   "id": "64aa7f5d",
   "metadata": {},
   "source": [
    "### continue in for"
   ]
  },
  {
   "cell_type": "code",
   "execution_count": 16,
   "id": "e49c8745",
   "metadata": {},
   "outputs": [
    {
     "name": "stdout",
     "output_type": "stream",
     "text": [
      "(0,1) (0,2) (0,3) (0,4)  \n",
      "(1,0) (1,2) (1,3) (1,4)  \n",
      "(2,0) (2,1) (2,3) (2,4)  \n",
      "(3,0) (3,1) (3,2) (3,4)  \n",
      "(4,0) (4,1) (4,2) (4,3)  \n"
     ]
    }
   ],
   "source": [
    "for i in range(5):\n",
    "    for j in range(5):\n",
    "        if i==j:\n",
    "            continue\n",
    "        print(f'({i},{j})',end=' ')\n",
    "    print(\" \")\n"
   ]
  },
  {
   "cell_type": "markdown",
   "id": "cb15acc0",
   "metadata": {},
   "source": [
    "### while loop"
   ]
  },
  {
   "attachments": {
    "While-loop-diagram.svg": {
     "image/svg+xml": [
      "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"
     ]
    }
   },
   "cell_type": "markdown",
   "id": "9fd7f448",
   "metadata": {},
   "source": [
    "##### syntax\n",
    "\n",
    "while (condition):\n",
    "    \n",
    "    {statements}\n",
    "    \n",
    "    \n",
    "![While-loop-diagram.svg](attachment:While-loop-diagram.svg)\n",
    "\n",
    "\n",
    "By P. Kemp - own work created using Dia, CC0, https://commons.wikimedia.org/w/index.php?curid=894438"
   ]
  },
  {
   "cell_type": "code",
   "execution_count": 12,
   "id": "8ff2491d",
   "metadata": {},
   "outputs": [
    {
     "name": "stdout",
     "output_type": "stream",
     "text": [
      "0\t1\t2\t3\t4\t5\t6\t7\t8\t9\t"
     ]
    }
   ],
   "source": [
    "counter= 0\n",
    "while counter<=9:\n",
    "    print(counter,end='\\t')\n",
    "    counter = counter + 1 # counter +=1"
   ]
  },
  {
   "cell_type": "markdown",
   "id": "69c01cd6",
   "metadata": {},
   "source": [
    "### break in while loop"
   ]
  },
  {
   "cell_type": "code",
   "execution_count": 17,
   "id": "0d7d25cd",
   "metadata": {},
   "outputs": [
    {
     "name": "stdout",
     "output_type": "stream",
     "text": [
      "(9,1) (9,2) (9,3) (9,4) (9,5) (9,6) (9,7) (9,8) "
     ]
    }
   ],
   "source": [
    "i = 9\n",
    "j=0\n",
    "while True:\n",
    "   j+=1 #j = j +1\n",
    "   if i==j:\n",
    "       break\n",
    "   print(f'({i},{j})',end=' ')"
   ]
  },
  {
   "cell_type": "markdown",
   "id": "d79d35ce",
   "metadata": {},
   "source": [
    "### continue in while"
   ]
  },
  {
   "cell_type": "code",
   "execution_count": 23,
   "id": "b1e326b5",
   "metadata": {},
   "outputs": [
    {
     "name": "stdout",
     "output_type": "stream",
     "text": [
      "5 1 hi\n",
      "5 2 hi\n",
      "5 3 hi\n",
      "5 4 hi\n",
      "5 6 hi\n"
     ]
    }
   ],
   "source": [
    "counter = 0\n",
    "i = 5\n",
    "while True:\n",
    "    counter +=1\n",
    "    if i==counter:\n",
    "        continue\n",
    "    elif i+2==counter:\n",
    "        break\n",
    "    print(i,counter,'hi')"
   ]
  },
  {
   "cell_type": "markdown",
   "id": "7addb1a4",
   "metadata": {},
   "source": [
    "### continue and break "
   ]
  },
  {
   "cell_type": "markdown",
   "id": "02dad39c",
   "metadata": {},
   "source": [
    "##### syntax"
   ]
  },
  {
   "cell_type": "markdown",
   "id": "23efdb7a",
   "metadata": {},
   "source": [
    "continue\n",
    "break"
   ]
  },
  {
   "cell_type": "markdown",
   "id": "865281f0",
   "metadata": {},
   "source": [
    "break statement breaks the loop."
   ]
  },
  {
   "cell_type": "markdown",
   "id": "9aaff9b7",
   "metadata": {},
   "source": [
    "continue statement: takes the program to the top of loop \n",
    "The continue keyword is used to end the current iteration in a for loop (or a while loop), and continues to the next iteration."
   ]
  },
  {
   "cell_type": "markdown",
   "id": "963f3e46",
   "metadata": {},
   "source": [
    "### more on data types"
   ]
  },
  {
   "cell_type": "markdown",
   "id": "1174e25d",
   "metadata": {},
   "source": [
    "tuple: ()"
   ]
  },
  {
   "cell_type": "code",
   "execution_count": 24,
   "id": "8c6fee22",
   "metadata": {},
   "outputs": [
    {
     "name": "stdout",
     "output_type": "stream",
     "text": [
      "(1, 2, 3)\n"
     ]
    }
   ],
   "source": [
    "#tuple () are immutable i.e. there value can't be changed\n",
    "tup =(1,2,3)\n",
    "print(tup)"
   ]
  },
  {
   "cell_type": "markdown",
   "id": "d735baf9",
   "metadata": {},
   "source": [
    "dictionaries:  {}"
   ]
  },
  {
   "cell_type": "code",
   "execution_count": 25,
   "id": "43117b5a",
   "metadata": {},
   "outputs": [
    {
     "name": "stdout",
     "output_type": "stream",
     "text": [
      "{'Person': 'Riza', 'age': 19, 'contact': 2784662}\n"
     ]
    }
   ],
   "source": [
    "#dictionary {} are mutable but hold a key\n",
    "diction = {'Person':'Riza','age':19,'contact':2784662}\n",
    "print(diction)"
   ]
  },
  {
   "cell_type": "markdown",
   "id": "c59fc7fd",
   "metadata": {},
   "source": [
    "### pass statement"
   ]
  },
  {
   "cell_type": "code",
   "execution_count": 32,
   "id": "067d9510",
   "metadata": {},
   "outputs": [
    {
     "name": "stdout",
     "output_type": "stream",
     "text": [
      "0\n",
      "1\n",
      "2\n"
     ]
    }
   ],
   "source": [
    "for i in range(4):\n",
    "    if i>2:\n",
    "        pass\n",
    "    else:\n",
    "        print(i)"
   ]
  },
  {
   "cell_type": "code",
   "execution_count": null,
   "id": "5f8d6292",
   "metadata": {},
   "outputs": [],
   "source": []
  }
 ],
 "metadata": {
  "kernelspec": {
   "display_name": "Python 3 (ipykernel)",
   "language": "python",
   "name": "python3"
  },
  "language_info": {
   "codemirror_mode": {
    "name": "ipython",
    "version": 3
   },
   "file_extension": ".py",
   "mimetype": "text/x-python",
   "name": "python",
   "nbconvert_exporter": "python",
   "pygments_lexer": "ipython3",
   "version": "3.9.13"
  }
 },
 "nbformat": 4,
 "nbformat_minor": 5
}
