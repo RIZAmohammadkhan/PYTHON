{
 "cells": [
  {
   "cell_type": "markdown",
   "id": "607f9b90",
   "metadata": {},
   "source": [
    "# 07-function {03} \n",
    "---------------------------\n",
    "\n",
    "unpacking arguments\n",
    "- unpacking list\n",
    "- unpacking dictionaries\n",
    "____________________________\n",
    "----------------------------"
   ]
  },
  {
   "cell_type": "code",
   "execution_count": 68,
   "id": "9edad595",
   "metadata": {},
   "outputs": [
    {
     "name": "stdout",
     "output_type": "stream",
     "text": [
      "[1, 4, 7, 10, 13, 16, 19]\n",
      "[1, 4, 7, 10, 13, 16, 19]\n"
     ]
    }
   ],
   "source": [
    "#unpacking in lists\n",
    "print(list(range(1,22,3)))\n",
    "\n",
    "lst = [1,22,3]\n",
    "print(list(range(*lst)))"
   ]
  },
  {
   "cell_type": "code",
   "execution_count": 72,
   "id": "bc523fe9",
   "metadata": {},
   "outputs": [],
   "source": [
    "#unpacking in dictionaries\n",
    "def Person(name,age,height,weight,city):\n",
    "    return f'name: {name}\\nage: {age}\\nheight: {height}\\nweight: {weight}\\ncity: {city}'\n",
    "    "
   ]
  },
  {
   "cell_type": "code",
   "execution_count": 76,
   "id": "11a68dca",
   "metadata": {},
   "outputs": [
    {
     "name": "stdout",
     "output_type": "stream",
     "text": [
      "name: Ahmad\n",
      "age: 9\n",
      "height: 4.4\n",
      "weight: 40\n",
      "city: Delhi\n"
     ]
    }
   ],
   "source": [
    "\n",
    "dci = {'name': \"Ahmad\",'age': 9,'height':4.4,'weight':40,'city':'Delhi'}\n",
    "print(Person(**dci))"
   ]
  },
  {
   "cell_type": "markdown",
   "id": "d622d60c",
   "metadata": {},
   "source": [
    "### lambda expression in python"
   ]
  },
  {
   "cell_type": "code",
   "execution_count": 85,
   "id": "579a40f8",
   "metadata": {},
   "outputs": [
    {
     "data": {
      "text/plain": [
       "-1"
      ]
     },
     "execution_count": 85,
     "metadata": {},
     "output_type": "execute_result"
    }
   ],
   "source": [
    "a = lambda a,b : a-b\n",
    "a(1,2)\n"
   ]
  },
  {
   "cell_type": "code",
   "execution_count": 86,
   "id": "310de32b",
   "metadata": {},
   "outputs": [],
   "source": [
    "def incrementer(inc):\n",
    "    return lambda x: x +inc"
   ]
  },
  {
   "cell_type": "code",
   "execution_count": 87,
   "id": "3f0a3859",
   "metadata": {},
   "outputs": [],
   "source": [
    "a = incrementer(2)"
   ]
  },
  {
   "cell_type": "code",
   "execution_count": 88,
   "id": "d0225362",
   "metadata": {},
   "outputs": [
    {
     "data": {
      "text/plain": [
       "92"
      ]
     },
     "execution_count": 88,
     "metadata": {},
     "output_type": "execute_result"
    }
   ],
   "source": [
    "a(90)"
   ]
  },
  {
   "cell_type": "markdown",
   "id": "c75c9dc7",
   "metadata": {},
   "source": [
    "## document string"
   ]
  },
  {
   "cell_type": "code",
   "execution_count": 97,
   "id": "64c8bd02",
   "metadata": {},
   "outputs": [],
   "source": [
    "def Person(name,age,height,weight,city):\n",
    "    \"\"\"This funtion named Person returns\n",
    "    name,age,height,weight,city of a given person\"\"\"\n",
    "    return f'name: {name}\\nage: {age}\\nheight: {height}\\nweight: {weight}\\ncity: {city}'\n",
    "    "
   ]
  },
  {
   "cell_type": "code",
   "execution_count": 98,
   "id": "e983fcfd",
   "metadata": {},
   "outputs": [
    {
     "name": "stdout",
     "output_type": "stream",
     "text": [
      "name: Ahmad\n",
      "age: 9\n",
      "height: 4.4\n",
      "weight: 40\n",
      "city: Delhi\n"
     ]
    }
   ],
   "source": [
    "print(Person(**dci))"
   ]
  },
  {
   "cell_type": "code",
   "execution_count": 99,
   "id": "94e0ce57",
   "metadata": {},
   "outputs": [
    {
     "name": "stdout",
     "output_type": "stream",
     "text": [
      "This funtion named Person returns\n",
      "    name,age,height,weight,city of a given person\n"
     ]
    }
   ],
   "source": [
    "print(Person.__doc__)"
   ]
  },
  {
   "cell_type": "code",
   "execution_count": null,
   "id": "307ab66b",
   "metadata": {},
   "outputs": [],
   "source": []
  }
 ],
 "metadata": {
  "kernelspec": {
   "display_name": "Python 3 (ipykernel)",
   "language": "python",
   "name": "python3"
  },
  "language_info": {
   "codemirror_mode": {
    "name": "ipython",
    "version": 3
   },
   "file_extension": ".py",
   "mimetype": "text/x-python",
   "name": "python",
   "nbconvert_exporter": "python",
   "pygments_lexer": "ipython3",
   "version": "3.9.13"
  }
 },
 "nbformat": 4,
 "nbformat_minor": 5
}
