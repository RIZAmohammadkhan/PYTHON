{
 "cells": [
  {
   "cell_type": "markdown",
   "id": "d3f30505",
   "metadata": {},
   "source": [
    "## match statement"
   ]
  },
  {
   "cell_type": "markdown",
   "id": "dad576a4",
   "metadata": {},
   "source": [
    "#### syntax\n",
    "match 'variable whose value is to be check':\n",
    "    \n",
    "    case value1:\n",
    "    \n",
    "        statements to be executed in block\n",
    "    \n",
    "    case value2:\n",
    "    \n",
    "        statements to be executed in block\n",
    "\n",
    "    case _:\n",
    "    \n",
    "        statements to be executed in block"
   ]
  },
  {
   "cell_type": "markdown",
   "id": "55719b3c",
   "metadata": {},
   "source": [
    "## functions\n"
   ]
  },
  {
   "cell_type": "markdown",
   "id": "43c9ba41",
   "metadata": {},
   "source": [
    "#### types\n",
    "\n",
    "- user defined\n",
    "- predefined"
   ]
  },
  {
   "cell_type": "markdown",
   "id": "4dc49d5b",
   "metadata": {},
   "source": [
    "**calling a function**"
   ]
  },
  {
   "cell_type": "markdown",
   "id": "5b154141",
   "metadata": {},
   "source": [
    "- math module    https://docs.python.org/3/library/math.html\n",
    "- random module  https://docs.python.org/3/library/random.html#random.Random"
   ]
  },
  {
   "cell_type": "markdown",
   "id": "605ea55d",
   "metadata": {},
   "source": [
    "## random module \n",
    "- import random as rd\n",
    "- rd.random()  #returns any floating point between(0,1)\n",
    "- rd.randint(a,b)  #a is initial value and b is final value including a and b [a,b]\n",
    "- rd.choice(list) #returns any element of list"
   ]
  },
  {
   "cell_type": "markdown",
   "id": "7529e31a",
   "metadata": {},
   "source": [
    "## math module\n",
    "- math\n",
    "- math.sqrt(num) #return squareroot of num\n",
    "- math.nan # returns not a number\n",
    "- math.inf # return infinity\n",
    "- math.sin(num) #return sin of num  \n",
    "- math.e # e = 2.178\n",
    "- math.pi # pi = 3.14"
   ]
  }
 ],
 "metadata": {
  "kernelspec": {
   "display_name": "Python 3 (ipykernel)",
   "language": "python",
   "name": "python3"
  },
  "language_info": {
   "codemirror_mode": {
    "name": "ipython",
    "version": 3
   },
   "file_extension": ".py",
   "mimetype": "text/x-python",
   "name": "python",
   "nbconvert_exporter": "python",
   "pygments_lexer": "ipython3",
   "version": "3.9.13"
  }
 },
 "nbformat": 4,
 "nbformat_minor": 5
}
