{
 "cells": [
  {
   "cell_type": "code",
   "execution_count": 39,
   "id": "c439fb7f",
   "metadata": {},
   "outputs": [],
   "source": [
    "def pass_gen(length):\n",
    "    alpha = ['a', 'b', 'c', 'd', 'e', 'f', 'g', 'h', 'i', 'j', 'k', 'l',\n",
    "             'm', 'n', 'o', 'p', 'q', 'r', 's', 't', 'u', 'v', 'w', 'x', 'y', 'z']\n",
    "    cap_alpha = ['A', 'B', 'C', 'D', 'E', 'F', 'G', 'H', 'I', 'J', 'K', 'L',\n",
    "                 'M', 'N', 'O', 'P', 'Q', 'R', 'S', 'T', 'U', 'V', 'W', 'X', 'Y', 'Z']\n",
    "    num  = ['0','1','2','3','4','5','6','7','8','9']\n",
    "    symbols = ['/','.',':','[','=','@']\n",
    "    import random\n",
    "    total = []\n",
    "    while len(total) != length:\n",
    "        k = random.choice([0,1,2,3])\n",
    "        if k == 0:\n",
    "            total.append(random.choice(alpha))\n",
    "        elif k == 1:\n",
    "            total.append(random.choice(cap_alpha))\n",
    "        elif k == 2:\n",
    "            total.append(random.choice(num))\n",
    "        elif k == 3:\n",
    "            total.append(random.choice(symbols))\n",
    "    return \"\".join(total)\n",
    "        "
   ]
  },
  {
   "cell_type": "code",
   "execution_count": 52,
   "id": "db2327fe",
   "metadata": {},
   "outputs": [
    {
     "data": {
      "text/plain": [
       "'E245ExnJd9/1[@j4['"
      ]
     },
     "execution_count": 52,
     "metadata": {},
     "output_type": "execute_result"
    }
   ],
   "source": [
    "pass_gen(17)"
   ]
  },
  {
   "cell_type": "code",
   "execution_count": null,
   "id": "a322eb25",
   "metadata": {},
   "outputs": [],
   "source": []
  }
 ],
 "metadata": {
  "kernelspec": {
   "display_name": "Python 3 (ipykernel)",
   "language": "python",
   "name": "python3"
  },
  "language_info": {
   "codemirror_mode": {
    "name": "ipython",
    "version": 3
   },
   "file_extension": ".py",
   "mimetype": "text/x-python",
   "name": "python",
   "nbconvert_exporter": "python",
   "pygments_lexer": "ipython3",
   "version": "3.9.13"
  }
 },
 "nbformat": 4,
 "nbformat_minor": 5
}
